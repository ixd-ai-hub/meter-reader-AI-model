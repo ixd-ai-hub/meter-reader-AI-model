{
 "cells": [
  {
   "cell_type": "code",
   "execution_count": null,
   "id": "bd5da767-a279-49ca-8216-57c766185f84",
   "metadata": {
    "scrolled": true
   },
   "outputs": [],
   "source": [
    "!pip install sagemaker --upgrade\n",
    "!pip install roboflow pycocotools seaborn\n",
    "!pip install boto3"
   ]
  },
  {
   "cell_type": "markdown",
   "id": "639fca13-2d1b-445c-8352-494c1d80823d",
   "metadata": {},
   "source": [
    "### Load and Prep. Dataset"
   ]
  },
  {
   "cell_type": "code",
   "execution_count": null,
   "id": "5b467383-0253-4c87-8115-9a57678ad1f5",
   "metadata": {
    "scrolled": true
   },
   "outputs": [],
   "source": [
    "!unzip dataset_v3.zip -d ./"
   ]
  },
  {
   "cell_type": "code",
   "execution_count": null,
   "id": "93d2c6de-fcaa-428b-87bd-98eb766a3166",
   "metadata": {},
   "outputs": [],
   "source": [
    "!mkdir -p ./data/custom\n",
    "!mkdir -p ./data/custom/annotations/\n",
    "!mkdir ./outputs\n",
    "\n",
    "!mv ./dataset_v3/test.json ./data/custom/annotations/instances_val2017.json\n",
    "!mv ./dataset_v3/train.json ./data/custom/annotations/instances_train2017.json\n",
    "\n",
    "!mkdir -p ./data/custom/train2017/\n",
    "!mv ./dataset_v3/train/images/*.jpg ./data/custom/train2017/\n",
    "\n",
    "!mkdir -p ./data/custom/val2017/\n",
    "!mv ./dataset_v3/test/images/*.jpg ./data/custom/val2017/"
   ]
  },
  {
   "cell_type": "markdown",
   "id": "e6feca4e-3cfc-4619-8516-6bc10d78cbee",
   "metadata": {},
   "source": [
    "### Test & Vis. Annotated dataset"
   ]
  },
  {
   "cell_type": "code",
   "execution_count": null,
   "id": "0b6b0bac-138f-4fc9-9603-153f086f9330",
   "metadata": {},
   "outputs": [],
   "source": [
    "%matplotlib inline\n",
    "import pycocotools.coco as coco\n",
    "from pycocotools.coco import COCO\n",
    "import numpy as np\n",
    "import skimage.io as io\n",
    "import matplotlib.pyplot as plt\n",
    "import pylab\n",
    "pylab.rcParams['figure.figsize'] = (10.0, 8.0)"
   ]
  },
  {
   "cell_type": "code",
   "execution_count": null,
   "id": "650c4f5f-e850-4b29-a80b-3d1e49359a90",
   "metadata": {},
   "outputs": [],
   "source": [
    "dataDir='./data/custom'\n",
    "dataType='train2017'\n",
    "annFile='{}/annotations/custom_train.json'.format(dataDir)"
   ]
  },
  {
   "cell_type": "code",
   "execution_count": null,
   "id": "0a49b539-f7ba-4888-b7c5-f45e1ab9f0e7",
   "metadata": {},
   "outputs": [],
   "source": [
    "coco=COCO(annFile)"
   ]
  },
  {
   "cell_type": "code",
   "execution_count": null,
   "id": "8c1d2df0-a7f8-4826-83fa-ad2d16d70a5b",
   "metadata": {},
   "outputs": [],
   "source": [
    "# display COCO categories and supercategories\n",
    "cats = coco.loadCats(coco.getCatIds())\n",
    "\n",
    "nms=[cat['name'] for cat in cats]\n",
    "print('Categories: {}'.format(nms))\n",
    "\n",
    "nms = set([cat['supercategory'] for cat in cats])\n",
    "print('Super-categories: {}'.format(nms))"
   ]
  },
  {
   "cell_type": "code",
   "execution_count": null,
   "id": "f8a15ed7-9904-4bf5-a695-217fcdd623f8",
   "metadata": {},
   "outputs": [],
   "source": [
    "# load and display image\n",
    "catIds = coco.getCatIds(catNms=['-'])\n",
    "imgIds = coco.getImgIds(catIds=catIds)\n",
    "\n",
    "img_id = imgIds[np.random.randint(0,len(imgIds))]\n",
    "print('Image n°{}'.format(img_id))\n",
    "\n",
    "img = coco.loadImgs(img_id)[0]\n",
    "\n",
    "img_name = '%s/%s/%s'%(dataDir, dataType, img['file_name'])\n",
    "print('Image name: {}'.format(img_name))\n",
    "\n",
    "annIds = coco.getAnnIds(imgIds=img['id'], catIds=catIds)\n",
    "anns = coco.loadAnns(annIds)\n",
    "print(anns)\n",
    "\n",
    "I = io.imread(img_name)\n",
    "plt.imshow(I)\n",
    "coco.showAnns(anns, draw_bbox=True, )"
   ]
  },
  {
   "cell_type": "markdown",
   "id": "5c572f9c-e451-4436-b863-07c6062683c4",
   "metadata": {},
   "source": [
    "### Loading code base"
   ]
  },
  {
   "cell_type": "code",
   "execution_count": null,
   "id": "d39ded91-f298-4b9d-a62e-c338da91514b",
   "metadata": {},
   "outputs": [],
   "source": [
    "!git clone https://github.com/ixd-ai-hub/meter-reader-ai-model.git --branch detr_train\n",
    "!mv ./meter-reader-ai-model/* .\n",
    "!rm -rf meter-reader-ai-model"
   ]
  },
  {
   "cell_type": "code",
   "execution_count": null,
   "id": "8eecc1ba-5b38-4214-bd24-6838fd1115d2",
   "metadata": {},
   "outputs": [],
   "source": []
  },
  {
   "cell_type": "code",
   "execution_count": null,
   "id": "434c6d50-d7a4-4ac2-9e84-2f2866095571",
   "metadata": {},
   "outputs": [],
   "source": []
  },
  {
   "cell_type": "code",
   "execution_count": null,
   "id": "31f9c3e6-e338-4ce7-b8b9-f2c4f0890c7c",
   "metadata": {},
   "outputs": [],
   "source": []
  },
  {
   "cell_type": "code",
   "execution_count": null,
   "id": "2a5f29b8-fa4d-4fca-849d-980d1fdf2d7a",
   "metadata": {},
   "outputs": [],
   "source": []
  },
  {
   "cell_type": "code",
   "execution_count": null,
   "id": "1a70b54c-589f-4401-905c-6f4680f138f3",
   "metadata": {},
   "outputs": [],
   "source": []
  }
 ],
 "metadata": {
  "kernelspec": {
   "display_name": "Python 3 (ipykernel)",
   "language": "python",
   "name": "python3"
  },
  "language_info": {
   "codemirror_mode": {
    "name": "ipython",
    "version": 3
   },
   "file_extension": ".py",
   "mimetype": "text/x-python",
   "name": "python",
   "nbconvert_exporter": "python",
   "pygments_lexer": "ipython3",
   "version": "3.10.13"
  }
 },
 "nbformat": 4,
 "nbformat_minor": 5
}
