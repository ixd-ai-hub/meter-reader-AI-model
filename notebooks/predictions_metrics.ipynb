{
 "cells": [
  {
   "cell_type": "code",
   "execution_count": 1,
   "metadata": {},
   "outputs": [],
   "source": [
    "import pandas as pd"
   ]
  },
  {
   "cell_type": "code",
   "execution_count": 84,
   "metadata": {},
   "outputs": [],
   "source": [
    "from collections import defaultdict"
   ]
  },
  {
   "cell_type": "markdown",
   "metadata": {},
   "source": [
    "# functions"
   ]
  },
  {
   "cell_type": "code",
   "execution_count": 2,
   "metadata": {},
   "outputs": [],
   "source": [
    "def edit_distance(str1, str2):\n",
    "    m, n = len(str1), len(str2)\n",
    "    dp = [[0] * (n + 1) for _ in range(m + 1)]\n",
    "    \n",
    "    for i in range(m + 1):\n",
    "        for j in range(n + 1):\n",
    "            if i == 0:\n",
    "                dp[i][j] = j\n",
    "            elif j == 0:\n",
    "                dp[i][j] = i\n",
    "            elif str1[i - 1] == str2[j - 1]:\n",
    "                dp[i][j] = dp[i - 1][j - 1]\n",
    "            else:\n",
    "                dp[i][j] = 1 + min(dp[i - 1][j], dp[i][j - 1], dp[i - 1][j - 1])\n",
    "    \n",
    "    # Reconstruct aligned strings\n",
    "    aligned_str1, aligned_str2 = \"\", \"\"\n",
    "    i, j = m, n\n",
    "    while i > 0 or j > 0:\n",
    "        if i > 0 and dp[i][j] == dp[i - 1][j] + 1:\n",
    "            aligned_str1 = str1[i - 1] + aligned_str1\n",
    "            aligned_str2 = \"*\" + aligned_str2\n",
    "            i -= 1\n",
    "        elif j > 0 and dp[i][j] == dp[i][j - 1] + 1:\n",
    "            aligned_str1 = \"*\" + aligned_str1\n",
    "            aligned_str2 = str2[j - 1] + aligned_str2\n",
    "            j -= 1\n",
    "        else:\n",
    "            aligned_str1 = str1[i - 1] + aligned_str1\n",
    "            aligned_str2 = str2[j - 1] + aligned_str2\n",
    "            i -= 1\n",
    "            j -= 1\n",
    "    \n",
    "    return dp[m][n], aligned_str1, aligned_str2\n"
   ]
  },
  {
   "cell_type": "code",
   "execution_count": 3,
   "metadata": {},
   "outputs": [],
   "source": [
    "def get_aligned_strings(str1,str2):\n",
    "    distance, aligned_str1, aligned_str2 = edit_distance(str1, str2)\n",
    "    # print(f\"Edit distance between '{str1}' and '{str2}': {distance}\")\n",
    "    print(f\"Aligned strings:\\n{aligned_str1}\\n{aligned_str2}\")\n",
    "    return aligned_str1, aligned_str2"
   ]
  },
  {
   "cell_type": "code",
   "execution_count": 59,
   "metadata": {},
   "outputs": [],
   "source": [
    "def get_acc_count_and_support(string_tuple):\n",
    "    # string_tuple = (gt_str, pred_str)\n",
    "    gt_list = []\n",
    "    pred_list = []\n",
    "\n",
    "    gt_list[:] = string_tuple[0]\n",
    "    pred_list[:] = string_tuple[1]\n",
    "\n",
    "    for i in range(0, len(gt_list)):\n",
    "        placewise_support_tenant_number[str(i+1)]+=1\n",
    "        classwise_support_tenant_number[gt_list[i]]+=1\n",
    "        \n",
    "        if gt_list[i]==pred_list[i]:\n",
    "            placewise_accuracy_tenant_number[str(i+1)]+=1\n",
    "            classwise_accuracy_tenant_number[gt_list[i]]+=1\n",
    "        "
   ]
  },
  {
   "cell_type": "markdown",
   "metadata": {},
   "source": [
    "# Example"
   ]
  },
  {
   "cell_type": "code",
   "execution_count": 4,
   "metadata": {},
   "outputs": [],
   "source": [
    "predicted_tenant_list = [\n",
    "    \"E-444-A\", # incorrect additional value in the middle\n",
    "    \"E-32-C\", # invisible letter also predicted\n",
    "    \"E-9-W\", # correct \n",
    "    \"W-51-C\", # correct but there is a white space\n",
    "    \"W--13-B\", # additional first -\n",
    "    \"11--52-D\", # tower letter incorrect should be E\n",
    "    \"W-7-B\", # last letter wrong\n",
    "    \"-5-C\" # tower letter not predicted\n",
    "]\n",
    "\n",
    "ground_truth_tenant_list = [\n",
    "    \"E-44-A\", # correct\n",
    "    \"E-32- \", # last letter is nnot visible\n",
    "    \"E-9-W\", # correct\n",
    "    \"W-51-C\", # correct no white sapce\n",
    "    \"W-13-B\", # incorrct- addtional -\n",
    "    \"E-52-D\", # incorrect\n",
    "    \"W-7-A\", # last letter wrong\n",
    "    \"E-5-C\", #tower letter not predicted\n",
    "]"
   ]
  },
  {
   "cell_type": "code",
   "execution_count": 156,
   "metadata": {},
   "outputs": [],
   "source": [
    "df = pd.DataFrame(data={\"pred_tenant_no\": predicted_tenant_list,\n",
    "                        \"gt_tenant_no\": ground_truth_tenant_list})"
   ]
  },
  {
   "cell_type": "code",
   "execution_count": 55,
   "metadata": {},
   "outputs": [
    {
     "data": {
      "text/html": [
       "<div>\n",
       "<style scoped>\n",
       "    .dataframe tbody tr th:only-of-type {\n",
       "        vertical-align: middle;\n",
       "    }\n",
       "\n",
       "    .dataframe tbody tr th {\n",
       "        vertical-align: top;\n",
       "    }\n",
       "\n",
       "    .dataframe thead th {\n",
       "        text-align: right;\n",
       "    }\n",
       "</style>\n",
       "<table border=\"1\" class=\"dataframe\">\n",
       "  <thead>\n",
       "    <tr style=\"text-align: right;\">\n",
       "      <th></th>\n",
       "      <th>pred_tenant_no</th>\n",
       "      <th>gt_tenant_no</th>\n",
       "    </tr>\n",
       "  </thead>\n",
       "  <tbody>\n",
       "    <tr>\n",
       "      <th>5</th>\n",
       "      <td>11--52-D</td>\n",
       "      <td>E-52-D</td>\n",
       "    </tr>\n",
       "    <tr>\n",
       "      <th>7</th>\n",
       "      <td>-5-C</td>\n",
       "      <td>E-5-C</td>\n",
       "    </tr>\n",
       "    <tr>\n",
       "      <th>2</th>\n",
       "      <td>E-9-W</td>\n",
       "      <td>E-9-W</td>\n",
       "    </tr>\n",
       "    <tr>\n",
       "      <th>4</th>\n",
       "      <td>W--13-B</td>\n",
       "      <td>W-13-B</td>\n",
       "    </tr>\n",
       "    <tr>\n",
       "      <th>6</th>\n",
       "      <td>W-7-B</td>\n",
       "      <td>W-7-A</td>\n",
       "    </tr>\n",
       "  </tbody>\n",
       "</table>\n",
       "</div>"
      ],
      "text/plain": [
       "  pred_tenant_no gt_tenant_no\n",
       "5       11--52-D       E-52-D\n",
       "7           -5-C        E-5-C\n",
       "2          E-9-W        E-9-W\n",
       "4        W--13-B       W-13-B\n",
       "6          W-7-B        W-7-A"
      ]
     },
     "execution_count": 55,
     "metadata": {},
     "output_type": "execute_result"
    }
   ],
   "source": [
    "df.sample(5)"
   ]
  },
  {
   "cell_type": "code",
   "execution_count": 81,
   "metadata": {},
   "outputs": [],
   "source": [
    "placewise_accuracy_tenant_number = {\n",
    "    '1': 0,\n",
    "    '2': 0,\n",
    "    '3': 0,\n",
    "    '4': 0,\n",
    "    '5': 0,\n",
    "    '6': 0,\n",
    "    '7': 0,\n",
    "    '8': 0,\n",
    "    '9': 0\n",
    "}\n",
    "\n",
    "placewise_support_tenant_number = {\n",
    "    '1': 0,\n",
    "    '2': 0,\n",
    "    '3': 0,\n",
    "    '4': 0,\n",
    "    '5': 0,\n",
    "    '6': 0,\n",
    "    '7': 0,\n",
    "    '8': 0,\n",
    "    '9': 0\n",
    "}\n",
    "\n",
    "classwise_accuracy_tenant_number = {'Electricity Meter': 0,\n",
    " 'Water Meter': 0,\n",
    " 'Tenant Number': 0,\n",
    " 'Meter Reading': 0,\n",
    " '0': 0,\n",
    " '1': 0,\n",
    " '2': 0,\n",
    " '3': 0,\n",
    " '4': 0,\n",
    " '5': 0,\n",
    " '6': 0,\n",
    " '7': 0,\n",
    " '8': 0,\n",
    " '9': 0,\n",
    " '-': 0,\n",
    " '.': 0,\n",
    " 'E': 0,\n",
    " 'A': 0,\n",
    " 'B': 0,\n",
    " 'C': 0,\n",
    " 'D': 0,\n",
    " 'F': 0,\n",
    " 'G': 0,\n",
    " 'H': 0,\n",
    " 'I': 0,\n",
    " 'J': 0,\n",
    " 'K': 0,\n",
    " 'L': 0,\n",
    " 'M': 0,\n",
    " 'N': 0,\n",
    " 'O': 0,\n",
    " 'P': 0,\n",
    " 'Q': 0,\n",
    " 'S': 0,\n",
    " 'T': 0,\n",
    " 'U': 0,\n",
    " 'V': 0,\n",
    " 'W': 0,\n",
    " 'X': 0,\n",
    " 'Y': 0,\n",
    " 'Z': 0,\n",
    " ' ': 0,\n",
    " '*': 0}\n",
    "\n",
    "classwise_support_tenant_number = {'Electricity Meter': 0,\n",
    " 'Water Meter': 0,\n",
    " 'Tenant Number': 0,\n",
    " 'Meter Reading': 0,\n",
    " '0': 0,\n",
    " '1': 0,\n",
    " '2': 0,\n",
    " '3': 0,\n",
    " '4': 0,\n",
    " '5': 0,\n",
    " '6': 0,\n",
    " '7': 0,\n",
    " '8': 0,\n",
    " '9': 0,\n",
    " '-': 0,\n",
    " '.': 0,\n",
    " 'E': 0,\n",
    " 'A': 0,\n",
    " 'B': 0,\n",
    " 'C': 0,\n",
    " 'D': 0,\n",
    " 'F': 0,\n",
    " 'G': 0,\n",
    " 'H': 0,\n",
    " 'I': 0,\n",
    " 'J': 0,\n",
    " 'K': 0,\n",
    " 'L': 0,\n",
    " 'M': 0,\n",
    " 'N': 0,\n",
    " 'O': 0,\n",
    " 'P': 0,\n",
    " 'Q': 0,\n",
    " 'S': 0,\n",
    " 'T': 0,\n",
    " 'U': 0,\n",
    " 'V': 0,\n",
    " 'W': 0,\n",
    " 'X': 0,\n",
    " 'Y': 0,\n",
    " 'Z': 0,\n",
    " ' ': 0,\n",
    " '*': 0}"
   ]
  },
  {
   "cell_type": "code",
   "execution_count": 83,
   "metadata": {},
   "outputs": [
    {
     "name": "stdout",
     "output_type": "stream",
     "text": [
      "Aligned strings:\n",
      "E-444-A\n",
      "E-44*-A\n",
      "Aligned strings:\n",
      "E-32-C\n",
      "E-32- \n",
      "Aligned strings:\n",
      "E-9-W\n",
      "E-9-W\n",
      "Aligned strings:\n",
      "W-51-C\n",
      "W-51-C\n",
      "Aligned strings:\n",
      "W--13-B\n",
      "W-*13-B\n",
      "Aligned strings:\n",
      "11--52-D\n",
      "E*-*52-D\n",
      "Aligned strings:\n",
      "W-7-B\n",
      "W-7-A\n",
      "Aligned strings:\n",
      "*-5-C\n",
      "E-5-C\n"
     ]
    }
   ],
   "source": [
    "df2 = df.apply(lambda x: get_acc_count_and_support(get_aligned_strings(x['pred_tenant_no'],x['gt_tenant_no'])), axis=1)"
   ]
  },
  {
   "cell_type": "code",
   "execution_count": 69,
   "metadata": {},
   "outputs": [],
   "source": [
    "for key in placewise_accuracy_tenant_number.keys():\n",
    "    if placewise_support_tenant_number[key] !=0:\n",
    "        placewise_accuracy_tenant_number[key]/=placewise_support_tenant_number[key]"
   ]
  },
  {
   "cell_type": "code",
   "execution_count": null,
   "metadata": {},
   "outputs": [],
   "source": [
    "for key in classwise_support_tenant_number.keys():\n",
    "    if classwise_support_tenant_number[key] !=0:\n",
    "        classwise_accuracy_tenant_number[key]/=classwise_support_tenant_number[key]"
   ]
  },
  {
   "cell_type": "markdown",
   "metadata": {},
   "source": [
    "# Class for generating "
   ]
  },
  {
   "cell_type": "code",
   "execution_count": 85,
   "metadata": {},
   "outputs": [],
   "source": [
    "from collections import defaultdict"
   ]
  },
  {
   "cell_type": "code",
   "execution_count": 183,
   "metadata": {},
   "outputs": [],
   "source": [
    "class Evals:\n",
    "\n",
    "    def __init__(self, reading_name):\n",
    "        self.placewise_accuracy = defaultdict(lambda:0)\n",
    "        self.classwise_accuracy = defaultdict(lambda:0)\n",
    "        self.classwise_accurate_count = defaultdict(lambda:0)\n",
    "\n",
    "        self.placewise_support = defaultdict(lambda:0)\n",
    "        self.classwise_support = defaultdict(lambda:0)\n",
    "        self.placewise_accurate_count = defaultdict(lambda:0)\n",
    "\n",
    "        self.reading_name = reading_name.replace(\" \",\"_\")\n",
    "\n",
    "    def get_evals(self, df):\n",
    "        '''\n",
    "        The first column of the dataframe should be image name, the second should be predicted value column, \n",
    "        and the third should be the ground truth value column\n",
    "        '''\n",
    "        pred_column = df.columns[0]\n",
    "        gt_column = df.columns[1]\n",
    "\n",
    "        df2 = df.apply(lambda x: self.get_acc_count_and_support(self.get_aligned_strings(x[pred_column],x[gt_column])), axis=1)\n",
    "\n",
    "        self.calculate_accuracy()\n",
    "        self.print_evals()\n",
    "\n",
    "        df[f\"{self.reading_name}_match\"] = df.apply(lambda x: x[pred_column]==x[gt_column], axis=1)\n",
    "        \n",
    "        return df\n",
    "\n",
    "    def get_aligned_strings(self, pred_str, gt_str):\n",
    "        distance, aligned_pred, aligned_gt = edit_distance(pred_str, gt_str)\n",
    "        print(f\"Aligned strings:\\n\\tpredicted: {aligned_pred}\\n\\tground truth:  {aligned_gt}\")\n",
    "        return aligned_pred, aligned_gt\n",
    "    \n",
    "    def get_acc_count_and_support(self, string_tuple):\n",
    "        gt_list = []\n",
    "        pred_list = []\n",
    "\n",
    "        pred_list[:] = string_tuple[0]\n",
    "        gt_list[:] = string_tuple[1]\n",
    "\n",
    "        for i in range(0, len(gt_list)):\n",
    "            self.placewise_support[str(i+1)]+=1\n",
    "            self.classwise_support[gt_list[i]]+=1\n",
    "            \n",
    "            if gt_list[i]==pred_list[i]:\n",
    "                self.placewise_accuracy[str(i+1)]+=1\n",
    "                self.classwise_accuracy[gt_list[i]]+=1\n",
    "\n",
    "                self.classwise_accurate_count[gt_list[i]]+=1\n",
    "                self.placewise_accurate_count[str(i+1)]+=1\n",
    "\n",
    "\n",
    "    def calculate_accuracy(self):\n",
    "        for key in self.placewise_accuracy.keys():\n",
    "            if self.placewise_support[key] !=0:\n",
    "                self.placewise_accuracy[key]/=self.placewise_support[key]\n",
    "        \n",
    "        for key in self.classwise_support.keys():\n",
    "            if self.classwise_support[key] !=0:\n",
    "                self.classwise_accuracy[key]/=self.classwise_support[key]\n",
    "\n",
    "    def print_evals(self):\n",
    "        print(f\"placewise accuracy of the {self.reading_name} \\n\", dict(self.placewise_accuracy))\n",
    "        print(f\"placewise support of the {self.reading_name} \\n\", dict(self.placewise_support))\n",
    "        print(f\"placewise accurate count of the {self.reading_name} \\n\", dict(self.placewise_accurate_count))\n",
    "\n",
    "        print(f\"classwise accuracy of the {self.reading_name} \\n\", dict(self.classwise_accuracy))\n",
    "        print(f\"classwise support of the {self.reading_name} \\n\", dict(self.classwise_support))\n",
    "        print(f\"classwise accurate count of the {self.reading_name} \\n\", dict(self.classwise_accurate_count))"
   ]
  },
  {
   "cell_type": "code",
   "execution_count": 184,
   "metadata": {},
   "outputs": [],
   "source": [
    "eval = Evals('tenant number')"
   ]
  },
  {
   "cell_type": "code",
   "execution_count": 185,
   "metadata": {},
   "outputs": [
    {
     "name": "stdout",
     "output_type": "stream",
     "text": [
      "Aligned strings:\n",
      "\tpredicted: E-444-A\n",
      "\tground truth:  E-44*-A\n",
      "Aligned strings:\n",
      "\tpredicted: E-32-C\n",
      "\tground truth:  E-32- \n",
      "Aligned strings:\n",
      "\tpredicted: E-9-W\n",
      "\tground truth:  E-9-W\n",
      "Aligned strings:\n",
      "\tpredicted: W-51-C\n",
      "\tground truth:  W-51-C\n",
      "Aligned strings:\n",
      "\tpredicted: W--13-B\n",
      "\tground truth:  W-*13-B\n",
      "Aligned strings:\n",
      "\tpredicted: 11--52-D\n",
      "\tground truth:  E*-*52-D\n",
      "Aligned strings:\n",
      "\tpredicted: W-7-B\n",
      "\tground truth:  W-7-A\n",
      "Aligned strings:\n",
      "\tpredicted: *-5-C\n",
      "\tground truth:  E-5-C\n",
      "placewise accuracy of the tenant_number \n",
      " {'1': 0.75, '2': 0.875, '3': 0.875, '4': 0.875, '6': 0.8, '7': 1.0, '5': 0.75, '8': 1.0}\n",
      "placewise support of the tenant_number \n",
      " {'1': 8, '2': 8, '3': 8, '4': 8, '5': 8, '6': 5, '7': 3, '8': 1}\n",
      "placewise accurate count of the tenant_number \n",
      " {'1': 6, '2': 7, '3': 7, '4': 7, '6': 4, '7': 3, '5': 6, '8': 1}\n",
      "classwise accuracy of the tenant_number \n",
      " {'E': 0.6, '-': 1.0, '4': 1.0, 'A': 0.5, '3': 1.0, '2': 1.0, '9': 1.0, 'W': 1.0, '5': 1.0, '1': 1.0, 'C': 1.0, 'B': 1.0, 'D': 1.0, '7': 1.0, '*': 0.0, ' ': 0.0}\n",
      "classwise support of the tenant_number \n",
      " {'E': 5, '-': 16, '4': 2, '*': 4, 'A': 2, '3': 2, '2': 2, ' ': 1, '9': 1, 'W': 4, '5': 3, '1': 2, 'C': 2, 'B': 1, 'D': 1, '7': 1}\n",
      "classwise accurate count of the tenant_number \n",
      " {'E': 3, '-': 16, '4': 2, 'A': 1, '3': 2, '2': 2, '9': 1, 'W': 4, '5': 3, '1': 2, 'C': 2, 'B': 1, 'D': 1, '7': 1}\n"
     ]
    }
   ],
   "source": [
    "new_df = eval.get_evals(df)"
   ]
  },
  {
   "cell_type": "code",
   "execution_count": 164,
   "metadata": {},
   "outputs": [
    {
     "data": {
      "text/html": [
       "<div>\n",
       "<style scoped>\n",
       "    .dataframe tbody tr th:only-of-type {\n",
       "        vertical-align: middle;\n",
       "    }\n",
       "\n",
       "    .dataframe tbody tr th {\n",
       "        vertical-align: top;\n",
       "    }\n",
       "\n",
       "    .dataframe thead th {\n",
       "        text-align: right;\n",
       "    }\n",
       "</style>\n",
       "<table border=\"1\" class=\"dataframe\">\n",
       "  <thead>\n",
       "    <tr style=\"text-align: right;\">\n",
       "      <th></th>\n",
       "      <th>pred_tenant_no</th>\n",
       "      <th>gt_tenant_no</th>\n",
       "      <th>tenant_number_match</th>\n",
       "    </tr>\n",
       "  </thead>\n",
       "  <tbody>\n",
       "    <tr>\n",
       "      <th>0</th>\n",
       "      <td>E-444-A</td>\n",
       "      <td>E-44-A</td>\n",
       "      <td>False</td>\n",
       "    </tr>\n",
       "    <tr>\n",
       "      <th>1</th>\n",
       "      <td>E-32-C</td>\n",
       "      <td>E-32-</td>\n",
       "      <td>False</td>\n",
       "    </tr>\n",
       "    <tr>\n",
       "      <th>2</th>\n",
       "      <td>E-9-W</td>\n",
       "      <td>E-9-W</td>\n",
       "      <td>True</td>\n",
       "    </tr>\n",
       "    <tr>\n",
       "      <th>3</th>\n",
       "      <td>W-51-C</td>\n",
       "      <td>W-51-C</td>\n",
       "      <td>True</td>\n",
       "    </tr>\n",
       "    <tr>\n",
       "      <th>4</th>\n",
       "      <td>W--13-B</td>\n",
       "      <td>W-13-B</td>\n",
       "      <td>False</td>\n",
       "    </tr>\n",
       "    <tr>\n",
       "      <th>5</th>\n",
       "      <td>11--52-D</td>\n",
       "      <td>E-52-D</td>\n",
       "      <td>False</td>\n",
       "    </tr>\n",
       "    <tr>\n",
       "      <th>6</th>\n",
       "      <td>W-7-B</td>\n",
       "      <td>W-7-A</td>\n",
       "      <td>False</td>\n",
       "    </tr>\n",
       "    <tr>\n",
       "      <th>7</th>\n",
       "      <td>-5-C</td>\n",
       "      <td>E-5-C</td>\n",
       "      <td>False</td>\n",
       "    </tr>\n",
       "  </tbody>\n",
       "</table>\n",
       "</div>"
      ],
      "text/plain": [
       "  pred_tenant_no gt_tenant_no  tenant_number_match\n",
       "0        E-444-A       E-44-A                False\n",
       "1         E-32-C       E-32-                 False\n",
       "2          E-9-W        E-9-W                 True\n",
       "3         W-51-C       W-51-C                 True\n",
       "4        W--13-B       W-13-B                False\n",
       "5       11--52-D       E-52-D                False\n",
       "6          W-7-B        W-7-A                False\n",
       "7           -5-C        E-5-C                False"
      ]
     },
     "execution_count": 164,
     "metadata": {},
     "output_type": "execute_result"
    }
   ],
   "source": [
    "# new_df"
   ]
  },
  {
   "cell_type": "markdown",
   "metadata": {},
   "source": [
    "## metrics on the dataset"
   ]
  },
  {
   "cell_type": "code",
   "execution_count": 165,
   "metadata": {},
   "outputs": [],
   "source": [
    "df_ = pd.read_csv(\"../temp/data/val_resultsV2.4.csv\")\n"
   ]
  },
  {
   "cell_type": "code",
   "execution_count": 166,
   "metadata": {},
   "outputs": [
    {
     "data": {
      "text/html": [
       "<div>\n",
       "<style scoped>\n",
       "    .dataframe tbody tr th:only-of-type {\n",
       "        vertical-align: middle;\n",
       "    }\n",
       "\n",
       "    .dataframe tbody tr th {\n",
       "        vertical-align: top;\n",
       "    }\n",
       "\n",
       "    .dataframe thead th {\n",
       "        text-align: right;\n",
       "    }\n",
       "</style>\n",
       "<table border=\"1\" class=\"dataframe\">\n",
       "  <thead>\n",
       "    <tr style=\"text-align: right;\">\n",
       "      <th></th>\n",
       "      <th>image_name</th>\n",
       "      <th>pred_meter_reading</th>\n",
       "      <th>pred_tenant_number</th>\n",
       "      <th>meter_reading_match</th>\n",
       "      <th>tenant_number_match</th>\n",
       "      <th>meter_type</th>\n",
       "      <th>gt_meter_reading</th>\n",
       "      <th>gt_tenant_number</th>\n",
       "    </tr>\n",
       "  </thead>\n",
       "  <tbody>\n",
       "    <tr>\n",
       "      <th>0</th>\n",
       "      <td>2023_12_24_electricity_d8a27651-fedd-11ee-a1d3...</td>\n",
       "      <td>5079.36</td>\n",
       "      <td>W-42-C</td>\n",
       "      <td>True</td>\n",
       "      <td>True</td>\n",
       "      <td>electricity</td>\n",
       "      <td>5079.36</td>\n",
       "      <td>W-42-C</td>\n",
       "    </tr>\n",
       "    <tr>\n",
       "      <th>1</th>\n",
       "      <td>2023_12_06_water_6b594a0a-fe4a-11ee-9e38-00155...</td>\n",
       "      <td>00849</td>\n",
       "      <td>E-10-C</td>\n",
       "      <td>True</td>\n",
       "      <td>True</td>\n",
       "      <td>water</td>\n",
       "      <td>00849</td>\n",
       "      <td>E-10-C</td>\n",
       "    </tr>\n",
       "    <tr>\n",
       "      <th>2</th>\n",
       "      <td>2023_10_26_water_d91aa7f7-fedd-11ee-a358-00155...</td>\n",
       "      <td>00175</td>\n",
       "      <td>E-12-B</td>\n",
       "      <td>True</td>\n",
       "      <td>False</td>\n",
       "      <td>water</td>\n",
       "      <td>00175</td>\n",
       "      <td>E--2-B</td>\n",
       "    </tr>\n",
       "    <tr>\n",
       "      <th>3</th>\n",
       "      <td>2024_01_25_water_da1da5bf-fedd-11ee-9019-00155...</td>\n",
       "      <td>01181</td>\n",
       "      <td>W-49-B</td>\n",
       "      <td>True</td>\n",
       "      <td>True</td>\n",
       "      <td>water</td>\n",
       "      <td>01181</td>\n",
       "      <td>W-49-B</td>\n",
       "    </tr>\n",
       "    <tr>\n",
       "      <th>4</th>\n",
       "      <td>2023_12_24_water_54ae665a-fe45-11ee-bdce-00155...</td>\n",
       "      <td>00582</td>\n",
       "      <td>W-38-A</td>\n",
       "      <td>False</td>\n",
       "      <td>True</td>\n",
       "      <td>water</td>\n",
       "      <td>0058</td>\n",
       "      <td>W-38-A</td>\n",
       "    </tr>\n",
       "    <tr>\n",
       "      <th>...</th>\n",
       "      <td>...</td>\n",
       "      <td>...</td>\n",
       "      <td>...</td>\n",
       "      <td>...</td>\n",
       "      <td>...</td>\n",
       "      <td>...</td>\n",
       "      <td>...</td>\n",
       "      <td>...</td>\n",
       "    </tr>\n",
       "    <tr>\n",
       "      <th>271</th>\n",
       "      <td>2024_03_25_electricity_348f4ac6-fda6-11ee-886b...</td>\n",
       "      <td>681.68</td>\n",
       "      <td>W-11-B</td>\n",
       "      <td>True</td>\n",
       "      <td>True</td>\n",
       "      <td>electricity</td>\n",
       "      <td>681.68</td>\n",
       "      <td>W-11-B</td>\n",
       "    </tr>\n",
       "    <tr>\n",
       "      <th>272</th>\n",
       "      <td>2023_10_25_water_d92b2e91-fedd-11ee-993e-00155...</td>\n",
       "      <td>02001</td>\n",
       "      <td>W-52-A</td>\n",
       "      <td>True</td>\n",
       "      <td>True</td>\n",
       "      <td>water</td>\n",
       "      <td>02001</td>\n",
       "      <td>W-52-A</td>\n",
       "    </tr>\n",
       "    <tr>\n",
       "      <th>273</th>\n",
       "      <td>2023_12_24_water_54aedcdf-fe45-11ee-b84a-00155...</td>\n",
       "      <td>00104</td>\n",
       "      <td>W-32-D</td>\n",
       "      <td>False</td>\n",
       "      <td>True</td>\n",
       "      <td>water</td>\n",
       "      <td>0010</td>\n",
       "      <td>W-32-D</td>\n",
       "    </tr>\n",
       "    <tr>\n",
       "      <th>274</th>\n",
       "      <td>2023_12_24_electricity_d869bae6-fedd-11ee-ae54...</td>\n",
       "      <td>2239.82</td>\n",
       "      <td>E-36-A</td>\n",
       "      <td>True</td>\n",
       "      <td>False</td>\n",
       "      <td>electricity</td>\n",
       "      <td>2239.82</td>\n",
       "      <td>E-36-A</td>\n",
       "    </tr>\n",
       "    <tr>\n",
       "      <th>275</th>\n",
       "      <td>2023_10_26_water_d90abdac-fedd-11ee-b322-00155...</td>\n",
       "      <td>00018</td>\n",
       "      <td>E-41-C</td>\n",
       "      <td>True</td>\n",
       "      <td>True</td>\n",
       "      <td>water</td>\n",
       "      <td>00018</td>\n",
       "      <td>E-41-C</td>\n",
       "    </tr>\n",
       "  </tbody>\n",
       "</table>\n",
       "<p>276 rows × 8 columns</p>\n",
       "</div>"
      ],
      "text/plain": [
       "                                            image_name pred_meter_reading  \\\n",
       "0    2023_12_24_electricity_d8a27651-fedd-11ee-a1d3...            5079.36   \n",
       "1    2023_12_06_water_6b594a0a-fe4a-11ee-9e38-00155...              00849   \n",
       "2    2023_10_26_water_d91aa7f7-fedd-11ee-a358-00155...              00175   \n",
       "3    2024_01_25_water_da1da5bf-fedd-11ee-9019-00155...              01181   \n",
       "4    2023_12_24_water_54ae665a-fe45-11ee-bdce-00155...              00582   \n",
       "..                                                 ...                ...   \n",
       "271  2024_03_25_electricity_348f4ac6-fda6-11ee-886b...             681.68   \n",
       "272  2023_10_25_water_d92b2e91-fedd-11ee-993e-00155...              02001   \n",
       "273  2023_12_24_water_54aedcdf-fe45-11ee-b84a-00155...              00104   \n",
       "274  2023_12_24_electricity_d869bae6-fedd-11ee-ae54...            2239.82   \n",
       "275  2023_10_26_water_d90abdac-fedd-11ee-b322-00155...              00018   \n",
       "\n",
       "    pred_tenant_number  meter_reading_match  tenant_number_match   meter_type  \\\n",
       "0               W-42-C                 True                 True  electricity   \n",
       "1               E-10-C                 True                 True        water   \n",
       "2               E-12-B                 True                False        water   \n",
       "3               W-49-B                 True                 True        water   \n",
       "4               W-38-A                False                 True        water   \n",
       "..                 ...                  ...                  ...          ...   \n",
       "271             W-11-B                 True                 True  electricity   \n",
       "272             W-52-A                 True                 True        water   \n",
       "273             W-32-D                False                 True        water   \n",
       "274            E-36-A                  True                False  electricity   \n",
       "275             E-41-C                 True                 True        water   \n",
       "\n",
       "    gt_meter_reading gt_tenant_number  \n",
       "0            5079.36           W-42-C  \n",
       "1              00849           E-10-C  \n",
       "2              00175           E--2-B  \n",
       "3              01181           W-49-B  \n",
       "4               0058           W-38-A  \n",
       "..               ...              ...  \n",
       "271           681.68           W-11-B  \n",
       "272            02001           W-52-A  \n",
       "273             0010           W-32-D  \n",
       "274          2239.82           E-36-A  \n",
       "275            00018           E-41-C  \n",
       "\n",
       "[276 rows x 8 columns]"
      ]
     },
     "execution_count": 166,
     "metadata": {},
     "output_type": "execute_result"
    }
   ],
   "source": [
    "df_"
   ]
  },
  {
   "cell_type": "markdown",
   "metadata": {},
   "source": [
    "df - > image name\n",
    " "
   ]
  },
  {
   "cell_type": "markdown",
   "metadata": {},
   "source": [
    "# test"
   ]
  },
  {
   "cell_type": "markdown",
   "metadata": {},
   "source": []
  },
  {
   "cell_type": "markdown",
   "metadata": {},
   "source": [
    "## dataframes"
   ]
  },
  {
   "cell_type": "code",
   "execution_count": 76,
   "metadata": {},
   "outputs": [],
   "source": [
    "df['tenet_number_match'] = df.apply(lambda x: x['pred_tenant_no']==x['gt_tenant_no'], axis=1)"
   ]
  },
  {
   "cell_type": "code",
   "execution_count": 77,
   "metadata": {},
   "outputs": [
    {
     "data": {
      "text/html": [
       "<div>\n",
       "<style scoped>\n",
       "    .dataframe tbody tr th:only-of-type {\n",
       "        vertical-align: middle;\n",
       "    }\n",
       "\n",
       "    .dataframe tbody tr th {\n",
       "        vertical-align: top;\n",
       "    }\n",
       "\n",
       "    .dataframe thead th {\n",
       "        text-align: right;\n",
       "    }\n",
       "</style>\n",
       "<table border=\"1\" class=\"dataframe\">\n",
       "  <thead>\n",
       "    <tr style=\"text-align: right;\">\n",
       "      <th></th>\n",
       "      <th>pred_tenant_no</th>\n",
       "      <th>gt_tenant_no</th>\n",
       "      <th>tenet_number_match</th>\n",
       "    </tr>\n",
       "  </thead>\n",
       "  <tbody>\n",
       "    <tr>\n",
       "      <th>7</th>\n",
       "      <td>-5-C</td>\n",
       "      <td>E-5-C</td>\n",
       "      <td>False</td>\n",
       "    </tr>\n",
       "    <tr>\n",
       "      <th>4</th>\n",
       "      <td>W--13-B</td>\n",
       "      <td>W-13-B</td>\n",
       "      <td>False</td>\n",
       "    </tr>\n",
       "    <tr>\n",
       "      <th>5</th>\n",
       "      <td>11--52-D</td>\n",
       "      <td>E-52-D</td>\n",
       "      <td>False</td>\n",
       "    </tr>\n",
       "  </tbody>\n",
       "</table>\n",
       "</div>"
      ],
      "text/plain": [
       "  pred_tenant_no gt_tenant_no  tenet_number_match\n",
       "7           -5-C        E-5-C               False\n",
       "4        W--13-B       W-13-B               False\n",
       "5       11--52-D       E-52-D               False"
      ]
     },
     "execution_count": 77,
     "metadata": {},
     "output_type": "execute_result"
    }
   ],
   "source": [
    "df.sample(3)"
   ]
  },
  {
   "cell_type": "code",
   "execution_count": 80,
   "metadata": {},
   "outputs": [
    {
     "data": {
      "text/plain": [
       "tenet_number_match\n",
       "False    6\n",
       "True     2\n",
       "Name: count, dtype: int64"
      ]
     },
     "execution_count": 80,
     "metadata": {},
     "output_type": "execute_result"
    }
   ],
   "source": [
    "df['tenet_number_match'].value_counts()"
   ]
  },
  {
   "cell_type": "code",
   "execution_count": 124,
   "metadata": {},
   "outputs": [
    {
     "data": {
      "text/plain": [
       "Index(['pred_tenant_no', 'gt_tenant_no', 'tenet_number_match'], dtype='object')"
      ]
     },
     "execution_count": 124,
     "metadata": {},
     "output_type": "execute_result"
    }
   ],
   "source": [
    "lis = df.columns\n",
    "lis"
   ]
  },
  {
   "cell_type": "markdown",
   "metadata": {},
   "source": [
    "## strings"
   ]
  },
  {
   "cell_type": "markdown",
   "metadata": {},
   "source": [
    "### string to list"
   ]
  },
  {
   "cell_type": "code",
   "execution_count": 93,
   "metadata": {},
   "outputs": [],
   "source": [
    "st = \"  test  string  \"\n",
    "st2 = \"  test  string  2 \""
   ]
  },
  {
   "cell_type": "code",
   "execution_count": 9,
   "metadata": {},
   "outputs": [
    {
     "data": {
      "text/plain": [
       "[' ',\n",
       " ' ',\n",
       " 't',\n",
       " 'e',\n",
       " 's',\n",
       " 't',\n",
       " ' ',\n",
       " ' ',\n",
       " 's',\n",
       " 't',\n",
       " 'r',\n",
       " 'i',\n",
       " 'n',\n",
       " 'g',\n",
       " ' ',\n",
       " ' ']"
      ]
     },
     "execution_count": 9,
     "metadata": {},
     "output_type": "execute_result"
    }
   ],
   "source": [
    "lst = []\n",
    "lst[:] = st\n",
    "lst"
   ]
  },
  {
   "cell_type": "code",
   "execution_count": 94,
   "metadata": {},
   "outputs": [
    {
     "data": {
      "text/plain": [
       "['test', 'string']"
      ]
     },
     "execution_count": 94,
     "metadata": {},
     "output_type": "execute_result"
    }
   ],
   "source": [
    "st.split()"
   ]
  },
  {
   "cell_type": "markdown",
   "metadata": {},
   "source": [
    "### new line"
   ]
  },
  {
   "cell_type": "code",
   "execution_count": 95,
   "metadata": {},
   "outputs": [
    {
     "name": "stdout",
     "output_type": "stream",
     "text": [
      "reading\n",
      "name\n"
     ]
    }
   ],
   "source": [
    "print(\"reading\\nname\")"
   ]
  },
  {
   "cell_type": "code",
   "execution_count": 179,
   "metadata": {},
   "outputs": [
    {
     "name": "stdout",
     "output_type": "stream",
     "text": [
      "reading\n",
      "\tname\n"
     ]
    }
   ],
   "source": [
    "print(\"reading\\n\\tname\")"
   ]
  },
  {
   "cell_type": "markdown",
   "metadata": {},
   "source": [
    "### replace"
   ]
  },
  {
   "cell_type": "code",
   "execution_count": 158,
   "metadata": {},
   "outputs": [],
   "source": [
    "st = \" dis joined string\"\n"
   ]
  },
  {
   "cell_type": "code",
   "execution_count": 159,
   "metadata": {},
   "outputs": [
    {
     "data": {
      "text/plain": [
       "'_dis_joined_string'"
      ]
     },
     "execution_count": 159,
     "metadata": {},
     "output_type": "execute_result"
    }
   ],
   "source": [
    "st.replace(\" \",\"_\")"
   ]
  },
  {
   "cell_type": "markdown",
   "metadata": {},
   "source": [
    "## list of ground truth and predictions"
   ]
  },
  {
   "cell_type": "code",
   "execution_count": 12,
   "metadata": {},
   "outputs": [
    {
     "name": "stdout",
     "output_type": "stream",
     "text": [
      "Aligned strings:\n",
      "E-44*-A\n",
      "E-444-A\n",
      "Aligned strings:\n",
      "E-32- \n",
      "E-32-C\n",
      "Aligned strings:\n",
      "E-9-W\n",
      "E-9-W\n",
      "Aligned strings:\n",
      "W-51-C\n",
      "W-51-C\n",
      "Aligned strings:\n",
      "W-*13-B\n",
      "W--13-B\n",
      "Aligned strings:\n",
      "E*-*52-D\n",
      "11--52-D\n",
      "Aligned strings:\n",
      "W-7-A\n",
      "W-7-B\n",
      "Aligned strings:\n",
      "E-5-C\n",
      "*-5-C\n"
     ]
    }
   ],
   "source": [
    "for i in range(0, len(ground_truth_tenant_list)):\n",
    "    get_aligned_strings(ground_truth_tenant_list[i],predicted_tenant_list[i])\n"
   ]
  },
  {
   "cell_type": "code",
   "execution_count": 41,
   "metadata": {},
   "outputs": [],
   "source": [
    "get_acc_count_and_support('W-*13-B','W--13-B')"
   ]
  },
  {
   "cell_type": "code",
   "execution_count": 65,
   "metadata": {},
   "outputs": [
    {
     "data": {
      "text/plain": [
       "{'Electricity Meter': 0,\n",
       " 'Water Meter': 0,\n",
       " 'Tenant Number': 0,\n",
       " 'Meter Reading': 0,\n",
       " '0': 0,\n",
       " '1': 2,\n",
       " '2': 2,\n",
       " '3': 2,\n",
       " '4': 2,\n",
       " '5': 3,\n",
       " '6': 0,\n",
       " '7': 1,\n",
       " '8': 0,\n",
       " '9': 1,\n",
       " '-': 16,\n",
       " '.': 0,\n",
       " 'E': 3,\n",
       " 'A': 1,\n",
       " 'B': 1,\n",
       " 'C': 2,\n",
       " 'D': 1,\n",
       " 'F': 0,\n",
       " 'G': 0,\n",
       " 'H': 0,\n",
       " 'I': 0,\n",
       " 'J': 0,\n",
       " 'K': 0,\n",
       " 'L': 0,\n",
       " 'M': 0,\n",
       " 'N': 0,\n",
       " 'O': 0,\n",
       " 'P': 0,\n",
       " 'Q': 0,\n",
       " 'S': 0,\n",
       " 'T': 0,\n",
       " 'U': 0,\n",
       " 'V': 0,\n",
       " 'W': 4,\n",
       " 'X': 0,\n",
       " 'Y': 0,\n",
       " 'Z': 0,\n",
       " ' ': 0,\n",
       " '*': 0}"
      ]
     },
     "execution_count": 65,
     "metadata": {},
     "output_type": "execute_result"
    }
   ],
   "source": [
    "classwise_accuracy_tenant_number"
   ]
  },
  {
   "cell_type": "code",
   "execution_count": 71,
   "metadata": {},
   "outputs": [
    {
     "data": {
      "text/plain": [
       "{'1': 0.75,\n",
       " '2': 0.875,\n",
       " '3': 0.875,\n",
       " '4': 0.875,\n",
       " '5': 0.75,\n",
       " '6': 0.8,\n",
       " '7': 1.0,\n",
       " '8': 1.0,\n",
       " '9': 0}"
      ]
     },
     "execution_count": 71,
     "metadata": {},
     "output_type": "execute_result"
    }
   ],
   "source": [
    "placewise_accuracy_tenant_number"
   ]
  },
  {
   "cell_type": "code",
   "execution_count": 72,
   "metadata": {},
   "outputs": [
    {
     "data": {
      "text/plain": [
       "{'Electricity Meter': 0,\n",
       " 'Water Meter': 0,\n",
       " 'Tenant Number': 0,\n",
       " 'Meter Reading': 0,\n",
       " '0': 0,\n",
       " '1': 4,\n",
       " '2': 2,\n",
       " '3': 2,\n",
       " '4': 3,\n",
       " '5': 3,\n",
       " '6': 0,\n",
       " '7': 1,\n",
       " '8': 0,\n",
       " '9': 1,\n",
       " '-': 18,\n",
       " '.': 0,\n",
       " 'E': 3,\n",
       " 'A': 1,\n",
       " 'B': 2,\n",
       " 'C': 3,\n",
       " 'D': 1,\n",
       " 'F': 0,\n",
       " 'G': 0,\n",
       " 'H': 0,\n",
       " 'I': 0,\n",
       " 'J': 0,\n",
       " 'K': 0,\n",
       " 'L': 0,\n",
       " 'M': 0,\n",
       " 'N': 0,\n",
       " 'O': 0,\n",
       " 'P': 0,\n",
       " 'Q': 0,\n",
       " 'S': 0,\n",
       " 'T': 0,\n",
       " 'U': 0,\n",
       " 'V': 0,\n",
       " 'W': 4,\n",
       " 'X': 0,\n",
       " 'Y': 0,\n",
       " 'Z': 0,\n",
       " ' ': 0,\n",
       " '*': 1}"
      ]
     },
     "execution_count": 72,
     "metadata": {},
     "output_type": "execute_result"
    }
   ],
   "source": [
    "classwise_support_tenant_number"
   ]
  },
  {
   "cell_type": "code",
   "execution_count": 73,
   "metadata": {},
   "outputs": [
    {
     "data": {
      "text/plain": [
       "{'1': 8, '2': 8, '3': 8, '4': 8, '5': 8, '6': 5, '7': 3, '8': 1, '9': 0}"
      ]
     },
     "execution_count": 73,
     "metadata": {},
     "output_type": "execute_result"
    }
   ],
   "source": [
    "placewise_support_tenant_number"
   ]
  },
  {
   "cell_type": "code",
   "execution_count": 74,
   "metadata": {},
   "outputs": [
    {
     "data": {
      "text/plain": [
       "{'Electricity Meter': 0,\n",
       " 'Water Meter': 0,\n",
       " 'Tenant Number': 0,\n",
       " 'Meter Reading': 0,\n",
       " '0': 0,\n",
       " '1': 0.5,\n",
       " '2': 1.0,\n",
       " '3': 1.0,\n",
       " '4': 0.6666666666666666,\n",
       " '5': 1.0,\n",
       " '6': 0,\n",
       " '7': 1.0,\n",
       " '8': 0,\n",
       " '9': 1.0,\n",
       " '-': 0.8888888888888888,\n",
       " '.': 0,\n",
       " 'E': 1.0,\n",
       " 'A': 1.0,\n",
       " 'B': 0.5,\n",
       " 'C': 0.6666666666666666,\n",
       " 'D': 1.0,\n",
       " 'F': 0,\n",
       " 'G': 0,\n",
       " 'H': 0,\n",
       " 'I': 0,\n",
       " 'J': 0,\n",
       " 'K': 0,\n",
       " 'L': 0,\n",
       " 'M': 0,\n",
       " 'N': 0,\n",
       " 'O': 0,\n",
       " 'P': 0,\n",
       " 'Q': 0,\n",
       " 'S': 0,\n",
       " 'T': 0,\n",
       " 'U': 0,\n",
       " 'V': 0,\n",
       " 'W': 1.0,\n",
       " 'X': 0,\n",
       " 'Y': 0,\n",
       " 'Z': 0,\n",
       " ' ': 0,\n",
       " '*': 0.0}"
      ]
     },
     "execution_count": 74,
     "metadata": {},
     "output_type": "execute_result"
    }
   ],
   "source": [
    "classwise_accuracy_tenant_number"
   ]
  },
  {
   "cell_type": "markdown",
   "metadata": {},
   "source": [
    "## getting accuracy from the correct count and support"
   ]
  },
  {
   "cell_type": "code",
   "execution_count": 47,
   "metadata": {},
   "outputs": [],
   "source": [
    "for key in placewise_accuracy_tenant_number.keys():\n",
    "    if classwise_support_tenant_number[key] !=0:\n",
    "        placewise_accuracy_tenant_number[key]/=placewise_support_tenant_number[key]"
   ]
  },
  {
   "cell_type": "code",
   "execution_count": 70,
   "metadata": {},
   "outputs": [],
   "source": [
    "for key in classwise_support_tenant_number.keys():\n",
    "    if classwise_support_tenant_number[key] !=0:\n",
    "        classwise_accuracy_tenant_number[key]/=classwise_support_tenant_number[key]"
   ]
  },
  {
   "cell_type": "code",
   "execution_count": 48,
   "metadata": {},
   "outputs": [
    {
     "data": {
      "text/plain": [
       "{'1': 1.0, '2': 1.0, '3': 0.0, '4': 0.5, '5': 1.0, '6': 1.0, '7': 1.0}"
      ]
     },
     "execution_count": 48,
     "metadata": {},
     "output_type": "execute_result"
    }
   ],
   "source": [
    "placewise_accuracy_tenant_number"
   ]
  },
  {
   "cell_type": "code",
   "execution_count": 38,
   "metadata": {},
   "outputs": [
    {
     "data": {
      "text/plain": [
       "{'1': 1.0, '2': 1.0, '3': 0.0, '4': 1.0, '5': 1.0, '6': 1.0, '7': 1.0}"
      ]
     },
     "execution_count": 38,
     "metadata": {},
     "output_type": "execute_result"
    }
   ],
   "source": [
    "placewise_accuracy_tenant_number"
   ]
  },
  {
   "cell_type": "markdown",
   "metadata": {},
   "source": [
    "## dictionaries"
   ]
  },
  {
   "cell_type": "markdown",
   "metadata": {},
   "source": [
    "### cat list"
   ]
  },
  {
   "cell_type": "code",
   "execution_count": 17,
   "metadata": {},
   "outputs": [],
   "source": [
    "cat_temp_dict = {cat['name']:0 for cat in cat_list}"
   ]
  },
  {
   "cell_type": "code",
   "execution_count": 18,
   "metadata": {},
   "outputs": [
    {
     "data": {
      "text/plain": [
       "{'Electricity Meter': 0,\n",
       " 'Water Meter': 0,\n",
       " 'Tenant Number': 0,\n",
       " 'Meter Reading': 0,\n",
       " '0': 0,\n",
       " '1': 0,\n",
       " '2': 0,\n",
       " '3': 0,\n",
       " '4': 0,\n",
       " '5': 0,\n",
       " '6': 0,\n",
       " '7': 0,\n",
       " '8': 0,\n",
       " '9': 0,\n",
       " '-': 0,\n",
       " '.': 0,\n",
       " 'E': 0,\n",
       " 'A': 0,\n",
       " 'B': 0,\n",
       " 'C': 0,\n",
       " 'D': 0,\n",
       " 'F': 0,\n",
       " 'G': 0,\n",
       " 'H': 0,\n",
       " 'I': 0,\n",
       " 'J': 0,\n",
       " 'K': 0,\n",
       " 'L': 0,\n",
       " 'M': 0,\n",
       " 'N': 0,\n",
       " 'O': 0,\n",
       " 'P': 0,\n",
       " 'Q': 0,\n",
       " 'S': 0,\n",
       " 'T': 0,\n",
       " 'U': 0,\n",
       " 'V': 0,\n",
       " 'W': 0,\n",
       " 'X': 0,\n",
       " 'Y': 0,\n",
       " 'Z': 0}"
      ]
     },
     "execution_count": 18,
     "metadata": {},
     "output_type": "execute_result"
    }
   ],
   "source": [
    "cat_temp_dict"
   ]
  },
  {
   "cell_type": "code",
   "execution_count": null,
   "metadata": {},
   "outputs": [],
   "source": [
    "cat_list=[\n",
    "        {\n",
    "            \"id\": 0,\n",
    "            \"name\": \"Electricity Meter\",\n",
    "            \"supercategory\": \"object\"\n",
    "        },\n",
    "        {\n",
    "            \"id\": 1,\n",
    "            \"name\": \"Water Meter\",\n",
    "            \"supercategory\": \"object\"\n",
    "        },\n",
    "        {\n",
    "            \"id\": 2,\n",
    "            \"name\": \"Tenant Number\",\n",
    "            \"supercategory\": \"object\"\n",
    "        },\n",
    "        {\n",
    "            \"id\": 3,\n",
    "            \"name\": \"Meter Reading\",\n",
    "            \"supercategory\": \"object\"\n",
    "        },\n",
    "        {\n",
    "            \"id\": 4,\n",
    "            \"name\": \"0\",\n",
    "            \"supercategory\": \"object\"\n",
    "        },\n",
    "        {\n",
    "            \"id\": 5,\n",
    "            \"name\": \"1\",\n",
    "            \"supercategory\": \"object\"\n",
    "        },\n",
    "        {\n",
    "            \"id\": 6,\n",
    "            \"name\": \"2\",\n",
    "            \"supercategory\": \"object\"\n",
    "        },\n",
    "        {\n",
    "            \"id\": 7,\n",
    "            \"name\": \"3\",\n",
    "            \"supercategory\": \"object\"\n",
    "        },\n",
    "        {\n",
    "            \"id\": 8,\n",
    "            \"name\": \"4\",\n",
    "            \"supercategory\": \"object\"\n",
    "        },\n",
    "        {\n",
    "            \"id\": 9,\n",
    "            \"name\": \"5\",\n",
    "            \"supercategory\": \"object\"\n",
    "        },\n",
    "        {\n",
    "            \"id\": 10,\n",
    "            \"name\": \"6\",\n",
    "            \"supercategory\": \"object\"\n",
    "        },\n",
    "        {\n",
    "            \"id\": 11,\n",
    "            \"name\": \"7\",\n",
    "            \"supercategory\": \"object\"\n",
    "        },\n",
    "        {\n",
    "            \"id\": 12,\n",
    "            \"name\": \"8\",\n",
    "            \"supercategory\": \"object\"\n",
    "        },\n",
    "        {\n",
    "            \"id\": 13,\n",
    "            \"name\": \"9\",\n",
    "            \"supercategory\": \"object\"\n",
    "        },\n",
    "        {\n",
    "            \"id\": 14,\n",
    "            \"name\": \"-\",\n",
    "            \"supercategory\": \"object\"\n",
    "        },\n",
    "        {\n",
    "            \"id\": 15,\n",
    "            \"name\": \".\",\n",
    "            \"supercategory\": \"object\"\n",
    "        },\n",
    "        {\n",
    "            \"id\": 16,\n",
    "            \"name\": \"E\",\n",
    "            \"supercategory\": \"object\"\n",
    "        },\n",
    "        {\n",
    "            \"id\": 17,\n",
    "            \"name\": \"A\",\n",
    "            \"supercategory\": \"object\"\n",
    "        },\n",
    "        {\n",
    "            \"id\": 18,\n",
    "            \"name\": \"B\",\n",
    "            \"supercategory\": \"object\"\n",
    "        },\n",
    "        {\n",
    "            \"id\": 19,\n",
    "            \"name\": \"C\",\n",
    "            \"supercategory\": \"object\"\n",
    "        },\n",
    "        {\n",
    "            \"id\": 20,\n",
    "            \"name\": \"D\",\n",
    "            \"supercategory\": \"object\"\n",
    "        },\n",
    "        {\n",
    "            \"id\": 21,\n",
    "            \"name\": \"F\",\n",
    "            \"supercategory\": \"object\"\n",
    "        },\n",
    "        {\n",
    "            \"id\": 22,\n",
    "            \"name\": \"G\",\n",
    "            \"supercategory\": \"object\"\n",
    "        },\n",
    "        {\n",
    "            \"id\": 23,\n",
    "            \"name\": \"H\",\n",
    "            \"supercategory\": \"object\"\n",
    "        },\n",
    "        {\n",
    "            \"id\": 24,\n",
    "            \"name\": \"I\",\n",
    "            \"supercategory\": \"object\"\n",
    "        },\n",
    "        {\n",
    "            \"id\": 25,\n",
    "            \"name\": \"J\",\n",
    "            \"supercategory\": \"object\"\n",
    "        },\n",
    "        {\n",
    "            \"id\": 26,\n",
    "            \"name\": \"K\",\n",
    "            \"supercategory\": \"object\"\n",
    "        },\n",
    "        {\n",
    "            \"id\": 27,\n",
    "            \"name\": \"L\",\n",
    "            \"supercategory\": \"object\"\n",
    "        },\n",
    "        {\n",
    "            \"id\": 28,\n",
    "            \"name\": \"M\",\n",
    "            \"supercategory\": \"object\"\n",
    "        },\n",
    "        {\n",
    "            \"id\": 29,\n",
    "            \"name\": \"N\",\n",
    "            \"supercategory\": \"object\"\n",
    "        },\n",
    "        {\n",
    "            \"id\": 30,\n",
    "            \"name\": \"O\",\n",
    "            \"supercategory\": \"object\"\n",
    "        },\n",
    "        {\n",
    "            \"id\": 31,\n",
    "            \"name\": \"P\",\n",
    "            \"supercategory\": \"object\"\n",
    "        },\n",
    "        {\n",
    "            \"id\": 32,\n",
    "            \"name\": \"Q\",\n",
    "            \"supercategory\": \"object\"\n",
    "        },\n",
    "        {\n",
    "            \"id\": 33,\n",
    "            \"name\": \"S\",\n",
    "            \"supercategory\": \"object\"\n",
    "        },\n",
    "        {\n",
    "            \"id\": 34,\n",
    "            \"name\": \"T\",\n",
    "            \"supercategory\": \"object\"\n",
    "        },\n",
    "        {\n",
    "            \"id\": 35,\n",
    "            \"name\": \"U\",\n",
    "            \"supercategory\": \"object\"\n",
    "        },\n",
    "        {\n",
    "            \"id\": 36,\n",
    "            \"name\": \"V\",\n",
    "            \"supercategory\": \"object\"\n",
    "        },\n",
    "        {\n",
    "            \"id\": 37,\n",
    "            \"name\": \"W\",\n",
    "            \"supercategory\": \"object\"\n",
    "        },\n",
    "        {\n",
    "            \"id\": 38,\n",
    "            \"name\": \"X\",\n",
    "            \"supercategory\": \"object\"\n",
    "        },\n",
    "        {\n",
    "            \"id\": 39,\n",
    "            \"name\": \"Y\",\n",
    "            \"supercategory\": \"object\"\n",
    "        },\n",
    "        {\n",
    "            \"id\": 40,\n",
    "            \"name\": \"Z\",\n",
    "            \"supercategory\": \"object\"\n",
    "        }]"
   ]
  },
  {
   "cell_type": "markdown",
   "metadata": {},
   "source": [
    "### default dict"
   ]
  },
  {
   "cell_type": "code",
   "execution_count": 86,
   "metadata": {},
   "outputs": [
    {
     "data": {
      "text/plain": [
       "defaultdict(<function __main__.<lambda>()>, {})"
      ]
     },
     "execution_count": 86,
     "metadata": {},
     "output_type": "execute_result"
    }
   ],
   "source": [
    "dic_ = defaultdict(lambda:0)\n",
    "dic_"
   ]
  },
  {
   "cell_type": "code",
   "execution_count": 88,
   "metadata": {},
   "outputs": [
    {
     "data": {
      "text/plain": [
       "0"
      ]
     },
     "execution_count": 88,
     "metadata": {},
     "output_type": "execute_result"
    }
   ],
   "source": [
    "dic_['0']"
   ]
  },
  {
   "cell_type": "code",
   "execution_count": 92,
   "metadata": {},
   "outputs": [
    {
     "data": {
      "text/plain": [
       "defaultdict(<function __main__.<lambda>()>, {'0': 0, 1: 0})"
      ]
     },
     "execution_count": 92,
     "metadata": {},
     "output_type": "execute_result"
    }
   ],
   "source": [
    "dic_"
   ]
  },
  {
   "cell_type": "code",
   "execution_count": null,
   "metadata": {},
   "outputs": [],
   "source": []
  }
 ],
 "metadata": {
  "kernelspec": {
   "display_name": "MReadingEnv",
   "language": "python",
   "name": "python3"
  },
  "language_info": {
   "codemirror_mode": {
    "name": "ipython",
    "version": 3
   },
   "file_extension": ".py",
   "mimetype": "text/x-python",
   "name": "python",
   "nbconvert_exporter": "python",
   "pygments_lexer": "ipython3",
   "version": "3.12.2"
  }
 },
 "nbformat": 4,
 "nbformat_minor": 2
}
